{
 "cells": [
  {
   "cell_type": "code",
   "execution_count": 61,
   "id": "5449165e",
   "metadata": {},
   "outputs": [],
   "source": [
    "import numpy as np\n",
    "import random as rd\n",
    "import matplotlib.pyplot as plt\n",
    "import pandas as pd"
   ]
  },
  {
   "cell_type": "markdown",
   "id": "6ec96860",
   "metadata": {},
   "source": [
    "#1. Khởi tạo quần thể"
   ]
  },
  {
   "cell_type": "code",
   "execution_count": 62,
   "id": "50a1fce1",
   "metadata": {},
   "outputs": [],
   "source": [
    "def initialPopulation(popSize, numItems):\n",
    "    population = []\n",
    "    low = 0\n",
    "    high = 1\n",
    "    for _ in range(popSize):\n",
    "        bits = []\n",
    "        for _ in range(numItems):\n",
    "            bits.append(low + np.random.rand() * (high - low))\n",
    "        population.append(bits)\n",
    "    return population"
   ]
  },
  {
   "cell_type": "markdown",
   "id": "70a6bf5b",
   "metadata": {},
   "source": [
    "#2. Mã hóa cá thể và hàm thích nghi"
   ]
  },
  {
   "cell_type": "markdown",
   "id": "84b4595c",
   "metadata": {},
   "source": []
  },
  {
   "cell_type": "code",
   "execution_count": 63,
   "id": "74b0aad4",
   "metadata": {},
   "outputs": [],
   "source": [
    "def decodeIndividual(bits):\n",
    "    decodeBits = []\n",
    "    for i in range(len(bits)):\n",
    "        if bits[i] > 0.5:\n",
    "            decodeBits.append(1)\n",
    "        else:\n",
    "            decodeBits.append(0)\n",
    "    return decodeBits"
   ]
  },
  {
   "cell_type": "code",
   "execution_count": 64,
   "id": "629ab3de",
   "metadata": {},
   "outputs": [],
   "source": [
    "def fitness(bits, price, weight, capacity):\n",
    "    decodeBits = decodeIndividual(bits)\n",
    "    total_price = total_weight = 0\n",
    "    for i in range(len(bits)):\n",
    "        if decodeBits[i] == 1:\n",
    "            total_price += price[i]\n",
    "            total_weight += weight[i]\n",
    "    if total_weight > capacity:\n",
    "        return 0\n",
    "    return total_price"
   ]
  },
  {
   "cell_type": "markdown",
   "id": "8d7d5bf6",
   "metadata": {},
   "source": [
    "#3. Đột biến"
   ]
  },
  {
   "cell_type": "code",
   "execution_count": 65,
   "id": "b1ed369f",
   "metadata": {},
   "outputs": [],
   "source": [
    "def randomIndividual(n, x, numIndividuals):\n",
    "    choices = [i for i in range(n) if i != x]\n",
    "    return np.random.choice(choices, numIndividuals, replace=False)"
   ]
  },
  {
   "cell_type": "markdown",
   "id": "4e6ce879",
   "metadata": {},
   "source": [
    "Đột biến một cá thể từ ngẫu nhiên 3 cá thể"
   ]
  },
  {
   "cell_type": "code",
   "execution_count": 66,
   "id": "07d9e80c",
   "metadata": {},
   "outputs": [],
   "source": [
    "def mutation1(population, F):\n",
    "    n = len(population)\n",
    "    trial = []\n",
    "    for i in range(n):\n",
    "        r1, r2, r3 = randomIndividual(n, i, 3)\n",
    "        individual = []\n",
    "        for j in range(len(population[i])):\n",
    "            individual.append(population[r1][j] + F * (population[r2][j] - population[r3][j]))\n",
    "        trial.append(individual)\n",
    "    return trial"
   ]
  },
  {
   "cell_type": "markdown",
   "id": "2ecbcf13",
   "metadata": {},
   "source": [
    "Đột biến một cá thể từ ngẫu nhiên 5 cá thể"
   ]
  },
  {
   "cell_type": "code",
   "execution_count": 67,
   "id": "a9547e20",
   "metadata": {},
   "outputs": [],
   "source": [
    "def mutation2(population, F):\n",
    "    n = len(population)\n",
    "    trial = []\n",
    "    for i in range(n):\n",
    "        r1, r2, r3, r4, r5 = randomIndividual(n, i, 5)\n",
    "        individual = []\n",
    "        for j in range(len(population[i])):\n",
    "            individual.append(population[r1][j] + F * (population[r2][j] - population[r3][j]) + F * (population[r4][j] - population[r5][j]))\n",
    "        trial.append(individual)\n",
    "    return trial"
   ]
  },
  {
   "cell_type": "markdown",
   "id": "7dd8670e",
   "metadata": {},
   "source": [
    "Đột biến cá thể tốt nhât theo 2 cá thể ngẫu nhiên"
   ]
  },
  {
   "cell_type": "code",
   "execution_count": 68,
   "id": "b3c8417d",
   "metadata": {},
   "outputs": [],
   "source": [
    "def mutation3(population, F):\n",
    "    n = len(population)\n",
    "    trial = []\n",
    "    for i in range(n):\n",
    "        r1 = population[0]\n",
    "        r2, r3 = randomIndividual(n, i, 2)\n",
    "        individual = []\n",
    "        for j in range(len(population[i])):\n",
    "            individual.append(r1[j] + F * (population[r2][j] - population[r3][j]))\n",
    "        trial.append(individual)\n",
    "    return trial"
   ]
  },
  {
   "cell_type": "markdown",
   "id": "cc745087",
   "metadata": {},
   "source": [
    "Đột biến từ cá thể hiện tại theo cá thể tốt nhất"
   ]
  },
  {
   "cell_type": "code",
   "execution_count": 69,
   "id": "393a1f18",
   "metadata": {},
   "outputs": [],
   "source": [
    "def mutation4(population, F):\n",
    "    trial = []\n",
    "    n = len(population)\n",
    "    for i in range(n):\n",
    "        r1, r2 = randomIndividual(n, i, 2)\n",
    "        individual = []\n",
    "        for j in range(len(population[i])):\n",
    "            individual.append(population[i][j] + F * (population[0][j] - population[i][j]) + F * (population[r1][j] - population[r2][j]))\n",
    "        trial.append(individual)\n",
    "    return trial"
   ]
  },
  {
   "cell_type": "markdown",
   "id": "f32e9118",
   "metadata": {},
   "source": [
    "#4. Lai ghép"
   ]
  },
  {
   "cell_type": "code",
   "execution_count": 70,
   "id": "01bbf205",
   "metadata": {},
   "outputs": [],
   "source": [
    "def crossover(population, trial, crossoverRate):\n",
    "    n = len(trial)\n",
    "    r = randomIndividual(n, 0, 1)\n",
    "    children = []\n",
    "    for i in range(n):\n",
    "        individual = []\n",
    "        for j in range(len(trial[i])):\n",
    "            if rd.random() < crossoverRate or j == r:\n",
    "                individual.append(trial[i][j])\n",
    "            else:\n",
    "                individual.append(population[i][j])\n",
    "        children.append(individual)\n",
    "    return children"
   ]
  },
  {
   "cell_type": "markdown",
   "id": "98111b69",
   "metadata": {},
   "source": [
    "#5. Chọn lọc"
   ]
  },
  {
   "cell_type": "code",
   "execution_count": 71,
   "id": "df75707d",
   "metadata": {},
   "outputs": [],
   "source": [
    "def select(population, crossIndividual, price, weight, capacity):\n",
    "    population2 = []\n",
    "    for i in range(len(population)):\n",
    "        if fitness(crossIndividual[i], price, weight, capacity) > fitness(population[i], price, weight, capacity):\n",
    "            population2.append(crossIndividual[i])\n",
    "        else:\n",
    "            population2.append(population[i])\n",
    "    return population2"
   ]
  },
  {
   "cell_type": "markdown",
   "id": "ce8a0e4d",
   "metadata": {},
   "source": [
    "#6. Tiến hóa quần thể"
   ]
  },
  {
   "cell_type": "code",
   "execution_count": 72,
   "id": "8a6ffdc8",
   "metadata": {},
   "outputs": [],
   "source": [
    "def nextPopulation(population, price, weight, capacity, crossoverRate, F, typeMutation):\n",
    "    trial = []\n",
    "    if typeMutation == 'mutation1':\n",
    "        trial = mutation1(population, F)\n",
    "    elif typeMutation == 'mutation2':\n",
    "        trial = mutation2(population, F)\n",
    "    elif typeMutation == 'mutation3':\n",
    "        trial = mutation3(population, F)\n",
    "    elif typeMutation == 'mutation4':\n",
    "        trial = mutation4(population, F)\n",
    "    crossIndividual = (crossover(population, trial, crossoverRate))\n",
    "    nextGen = select(population, crossIndividual, price, weight, capacity)\n",
    "\n",
    "    # Đảm bảo quần thể không thay đổi kích thước\n",
    "    nextGen.sort(key = lambda x: fitness(x, price, weight, capacity), reverse=True)\n",
    "    return nextGen"
   ]
  },
  {
   "cell_type": "markdown",
   "id": "5a34a02c",
   "metadata": {},
   "source": [
    "#7. Thuật toán chính"
   ]
  },
  {
   "cell_type": "code",
   "execution_count": 73,
   "id": "8824b8b1",
   "metadata": {},
   "outputs": [],
   "source": [
    "def differentialEvolution(population, price, weight, capacity, generations, maximumLoop, crossoverRate, F, typeMutation):\n",
    "    # population = initialPopulation(popSize, numItems)\n",
    "    population.sort(key = lambda x: fitness(x, price, weight, capacity), reverse=True)\n",
    "    # print(fitness(population[0], price, weight, capacity))\n",
    "\n",
    "    progress = []\n",
    "    progress.append(fitness(population[0], price, weight, capacity))\n",
    "\n",
    "    loopnotImprove = 0\n",
    "    lastPrice = -1\n",
    "    while generations > 0:\n",
    "        population = nextPopulation(population, price, weight, capacity, crossoverRate, F, typeMutation)\n",
    "        # print(fitness(population[0], price, weight, capacity))\n",
    "        curPrice = fitness(population[0], price, weight, capacity)\n",
    "        progress.append(curPrice)\n",
    "        if (curPrice == lastPrice):\n",
    "            loopnotImprove += 1\n",
    "            if loopnotImprove == maximumLoop:\n",
    "                break\n",
    "        else:\n",
    "            lastPrice = curPrice\n",
    "            loopnotImprove = 0\n",
    "        generations -= 1\n",
    "    # plt.ylabel('Price')\n",
    "    # plt.xlabel('Generation')\n",
    "    # plt.plot(progress)\n",
    "    # plt.show()\n",
    "    return progress"
   ]
  },
  {
   "cell_type": "markdown",
   "id": "330be21d",
   "metadata": {},
   "source": [
    "#8. Chạy thuật toán"
   ]
  },
  {
   "cell_type": "code",
   "execution_count": 74,
   "id": "72524cd5",
   "metadata": {},
   "outputs": [
    {
     "data": {
      "image/png": "[encoded data removed]",
      "text/plain": [
       "<Figure size 640x480 with 1 Axes>"
      ]
     },
     "metadata": {},
     "output_type": "display_data"
    }
   ],
   "source": [
    "df = pd.read_csv('knapPI_3_500_1000_1_items.csv')\n",
    "df.columns = [c.strip() for c in df.columns]\n",
    "price = df['price']\n",
    "weight = df['weight']\n",
    "\n",
    "population = initialPopulation(popSize=100, numItems=500)\n",
    "ans1 = differentialEvolution(population=population, price=price, weight=weight, capacity=1000000, generations=100, maximumLoop=100, crossoverRate=0.5, F=0.1, typeMutation='mutation1')\n",
    "ans2 = differentialEvolution(population=population, price=price, weight=weight, capacity=1000000, generations=100, maximumLoop=100, crossoverRate=0.5, F=0.1, typeMutation='mutation2')\n",
    "ans3 = differentialEvolution(population=population, price=price, weight=weight, capacity=1000000, generations=100, maximumLoop=100, crossoverRate=0.5, F=0.1, typeMutation='mutation3')\n",
    "ans4 = differentialEvolution(population=population, price=price, weight=weight, capacity=1000000, generations=100, maximumLoop=100, crossoverRate=0.5, F=0.1, typeMutation='mutation4')\n",
    "\n",
    "plt.xlabel('Generation')\n",
    "plt.ylabel('Price')\n",
    "plt.plot(ans1, color='blue', label='Mutation 1')\n",
    "plt.plot(ans2, color='red', label='Mutation 2')\n",
    "plt.plot(ans3, color='green', label='Mutation 3')   \n",
    "plt.plot(ans4, color='orange', label='Mutation 4')\n",
    "plt.legend()\n",
    "plt.show()\n",
    "# answer = differentialEvolution(popSize=100, numItems=500, price=price, weight=weight, capacity=1000000, generations=500, maximumLoop=100, crossoverRate=0.5, F=0.1)\n"
   ]
  }
 ],
 "metadata": {
  "kernelspec": {
   "display_name": "Python 3",
   "language": "python",
   "name": "python3"
  },
  "language_info": {
   "codemirror_mode": {
    "name": "ipython",
    "version": 3
   },
   "file_extension": ".py",
   "mimetype": "text/x-python",
   "name": "python",
   "nbconvert_exporter": "python",
   "pygments_lexer": "ipython3",
   "version": "3.11.9"
  }
 },
 "nbformat": 4,
 "nbformat_minor": 5
}
